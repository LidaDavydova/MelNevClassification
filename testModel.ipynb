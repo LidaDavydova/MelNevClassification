{
  "cells": [
    {
      "cell_type": "markdown",
      "metadata": {
        "id": "view-in-github",
        "colab_type": "text"
      },
      "source": [
        "<a href=\"https://colab.research.google.com/github/LidaDavydova/MelNevClassification/blob/main/testModel.ipynb\" target=\"_parent\"><img src=\"https://colab.research.google.com/assets/colab-badge.svg\" alt=\"Open In Colab\"/></a>"
      ]
    },
    {
      "cell_type": "code",
      "execution_count": null,
      "metadata": {
        "id": "ySCa0Ska8Qn4"
      },
      "outputs": [],
      "source": [
        "import os\n",
        "import PIL\n",
        "import tensorflow as tf\n",
        "from tensorflow import keras\n",
        "import cv2\n",
        "import matplotlib.pyplot as plt\n",
        "import numpy as np"
      ]
    },
    {
      "cell_type": "code",
      "execution_count": null,
      "metadata": {
        "id": "2ISS9tkpFryh",
        "outputId": "3d7c1fcf-e179-41e8-87ce-1ec46be6f8e9"
      },
      "outputs": [
        {
          "data": {
            "text/plain": [
              "<matplotlib.image.AxesImage at 0x74a429334820>"
            ]
          },
          "execution_count": 2,
          "metadata": {},
          "output_type": "execute_result"
        },
        {
          "data": {
            "image/png": "[encoded data removed]",
            "text/plain": [
              "<Figure size 432x288 with 1 Axes>"
            ]
          },
          "metadata": {
            "needs_background": "light"
          },
          "output_type": "display_data"
        }
      ],
      "source": [
        "# upload img\n",
        "img_path = 'mel.jpg' # измени на путь к своему изображению (вроде работает для png и jpg формата)\n",
        "image = cv2.imread(img_path)\n",
        "image = cv2.cvtColor(image, cv2.COLOR_BGR2RGB)\n",
        "plt.subplot(2,2,2)\n",
        "plt.imshow(image)"
      ]
    },
    {
      "cell_type": "code",
      "execution_count": null,
      "metadata": {
        "id": "-n5Ilbb-Fryk"
      },
      "outputs": [],
      "source": [
        "# upload model\n",
        "model = tf.keras.models.load_model('model-72.keras') # измени на свой путь к модели .keras/.h5"
      ]
    },
    {
      "cell_type": "code",
      "execution_count": null,
      "metadata": {
        "id": "AFVH2eCKFryl"
      },
      "outputs": [],
      "source": [
        "image = keras.utils.load_img(img_path, target_size=(224,224))\n",
        "input_arr = keras.utils.img_to_array(image)\n",
        "input_arr = np.array([input_arr])"
      ]
    },
    {
      "cell_type": "code",
      "execution_count": null,
      "metadata": {
        "id": "k_sZQKCkFryn",
        "outputId": "6307308c-d30a-4c90-b7ec-ea89126688f7"
      },
      "outputs": [
        {
          "name": "stdout",
          "output_type": "stream",
          "text": [
            "\u001b[1m1/1\u001b[0m \u001b[32m━━━━━━━━━━━━━━━━━━━━\u001b[0m\u001b[37m\u001b[0m \u001b[1m0s\u001b[0m 456ms/step\n",
            "melanoma\n",
            "[[0.7077854 0.2922145]]\n"
          ]
        }
      ],
      "source": [
        "classes = {0: 'melanoma', 1: 'nevus'}\n",
        "pred = model.predict(input_arr)\n",
        "cls = tf.argmax(pred, axis=1)\n",
        "print(classes[int(cls)])\n",
        "print(pred)"
      ]
    },
    {
      "cell_type": "code",
      "execution_count": null,
      "metadata": {
        "scrolled": true,
        "id": "_pcobSFzFryo",
        "outputId": "918d4d8a-78d5-442e-9728-372abdd18721"
      },
      "outputs": [
        {
          "name": "stdout",
          "output_type": "stream",
          "text": [
            "\u001b[1m1/1\u001b[0m \u001b[32m━━━━━━━━━━━━━━━━━━━━\u001b[0m\u001b[37m\u001b[0m \u001b[1m0s\u001b[0m 301ms/step\n"
          ]
        },
        {
          "data": {
            "text/plain": [
              "(array([[0.9950244 , 0.00497562]], dtype=float32), 0.990048760548234)"
            ]
          },
          "execution_count": 6,
          "metadata": {},
          "output_type": "execute_result"
        }
      ],
      "source": [
        "pred = model.predict(input_arr)\n",
        "pred2 = pred.tolist()[0]\n",
        "diff = abs(pred2[0]-pred2[1])\n",
        "pred, diff"
      ]
    },
    {
      "cell_type": "code",
      "execution_count": null,
      "metadata": {
        "id": "kF5vavaKFryp"
      },
      "outputs": [],
      "source": [
        "range_len = 5.0\n",
        "min_el = 8.369982242584229e-05"
      ]
    },
    {
      "cell_type": "code",
      "execution_count": null,
      "metadata": {
        "id": "kdtjBl0DFryq"
      },
      "outputs": [],
      "source": [
        "precis = (diff-min_el)/range_len"
      ]
    },
    {
      "cell_type": "code",
      "execution_count": null,
      "metadata": {
        "id": "VHaMAsRmFryr",
        "outputId": "1bb64e89-aa97-4905-8ef4-8f899ad38f12"
      },
      "outputs": [
        {
          "name": "stdout",
          "output_type": "stream",
          "text": [
            "На 13.62% модель уверенна, что на изображении melanoma\n"
          ]
        }
      ],
      "source": [
        "classes = {0: 'melanoma', 1: 'nevus'}\n",
        "cls = tf.argmax(pred, axis=1)\n",
        "print(f\"На {round(precis*100, 2)}% модель уверенна, что на изображении {classes[int(cls)]}\")"
      ]
    },
    {
      "cell_type": "code",
      "execution_count": null,
      "metadata": {
        "id": "wMzPnr4KFrys"
      },
      "outputs": [],
      "source": []
    },
    {
      "cell_type": "code",
      "execution_count": null,
      "metadata": {
        "id": "Eu8UjTi5Fryt"
      },
      "outputs": [],
      "source": [
        "def load_dataset(df):\n",
        "    data = []\n",
        "    target = []\n",
        "    for i, row in df.iterrows():\n",
        "        lst = row.tolist()\n",
        "        features = lst[:-1]\n",
        "        label = lst[-1]\n",
        "        data.append([float(num) for num in features])\n",
        "        target.append(int(label))\n",
        "\n",
        "    data = np.array(data)\n",
        "    target = np.array(target)\n",
        "    return Bunch(data=data, target=target, feature_names=df.columns[:-1])"
      ]
    },
    {
      "cell_type": "code",
      "execution_count": null,
      "metadata": {
        "id": "8-ugVZ8_Fryu"
      },
      "outputs": [],
      "source": [
        "localization_dict_val = {\n",
        "    'lower extremity': 0,\n",
        "    'torso': 1,\n",
        "    'upper extremity': 2,\n",
        "    'head/neck': 3,\n",
        "    'unknown': 4,\n",
        "    'palms/soles': 5,\n",
        "    'oral/genital': 6,\n",
        "    'scalp': 7,\n",
        "    'ear': 8,\n",
        "    'face': 9,\n",
        "    'back': 10,\n",
        "    'trunk': 11,\n",
        "    'chest': 12,\n",
        "    'abdomen': 13,\n",
        "    'genital': 6,\n",
        "    'neck': 14,\n",
        "    'hand': 15,\n",
        "    'foot': 16,\n",
        "    'acral': 17\n",
        "}"
      ]
    },
    {
      "cell_type": "code",
      "execution_count": null,
      "metadata": {
        "id": "YG6qQYzLFryv"
      },
      "outputs": [],
      "source": [
        "sex = 'female'\n",
        "age = 5\n",
        "localization = 'hand'"
      ]
    },
    {
      "cell_type": "code",
      "execution_count": null,
      "metadata": {
        "id": "fdup0Dl5Fryw"
      },
      "outputs": [],
      "source": [
        "target = 0 if cls == 1 else 1 # because of error while model fitting\n",
        "features = pd.DataFrame([{\n",
        "    'advantage': diff,\n",
        "    'sex': sex,\n",
        "    'age': age,\n",
        "    'localization': localization,\n",
        "    'target': target\n",
        "}])\n",
        "features.localization = features.localization.map(localization_dict_val)\n",
        "features.sex = features.sex.map({'male': 0, 'female': 1})\n",
        "features = load_my_fancy_dataset(features)"
      ]
    },
    {
      "cell_type": "code",
      "execution_count": null,
      "metadata": {
        "id": "1Hv0RcgcFryw",
        "outputId": "1c8c3ce9-3d0e-40e1-8381-ef0109fe9afd"
      },
      "outputs": [
        {
          "data": {
            "text/plain": [
              "array([1])"
            ]
          },
          "execution_count": 32,
          "metadata": {},
          "output_type": "execute_result"
        }
      ],
      "source": [
        "features.target"
      ]
    },
    {
      "cell_type": "code",
      "execution_count": null,
      "metadata": {
        "id": "ZceQoklPFryx"
      },
      "outputs": [],
      "source": [
        "# load\n",
        "with open('models/model_sklearn_1_0.pkl', 'rb') as f:\n",
        "    gb = pickle.load(f)"
      ]
    },
    {
      "cell_type": "code",
      "execution_count": null,
      "metadata": {
        "id": "cPCDZmEsFryx",
        "outputId": "67aca41b-aba4-402d-f67b-34b5b8108d12"
      },
      "outputs": [
        {
          "data": {
            "text/plain": [
              "array([0])"
            ]
          },
          "execution_count": 34,
          "metadata": {},
          "output_type": "execute_result"
        }
      ],
      "source": [
        "y_pred_gb = gb.predict(features.data)\n",
        "y_pred_gb"
      ]
    },
    {
      "cell_type": "code",
      "execution_count": null,
      "metadata": {
        "id": "fcaElU7rFryy"
      },
      "outputs": [],
      "source": [
        "classes_for_2_model = {1: 'melanoma', 0: 'nevus'}"
      ]
    },
    {
      "cell_type": "code",
      "execution_count": null,
      "metadata": {
        "id": "bQaxwrcKFryy",
        "outputId": "bb70bb74-8780-4e87-c164-75440f485cf0"
      },
      "outputs": [
        {
          "name": "stdout",
          "output_type": "stream",
          "text": [
            "1 модель рапознала melanoma, 2 модель (на основе данных из первой) определила nevus\n",
            "1 модель уверенна на 13.62%, что на изображении melanoma\n"
          ]
        }
      ],
      "source": [
        "if features.target == y_pred_gb:\n",
        "    if features.target == 1:\n",
        "        print(\"melanoma\")\n",
        "    else:\n",
        "        print(\"nevus\")\n",
        "else:\n",
        "    print(f\"1 модель рапознала {classes[int(cls)]}, 2 модель (на основе данных из первой) определила {classes_for_2_model[int(y_pred_gb[0])]}\")\n",
        "\n",
        "print(f\"1 модель уверенна на {round(precis*100, 2)}%, что на изображении {classes[int(cls)]}\")"
      ]
    },
    {
      "cell_type": "code",
      "execution_count": null,
      "metadata": {
        "id": "QC6xLg6OFryz"
      },
      "outputs": [],
      "source": []
    }
  ],
  "metadata": {
    "colab": {
      "provenance": [],
      "include_colab_link": true
    },
    "kernelspec": {
      "display_name": ".venv",
      "language": "python",
      "name": ".venv"
    },
    "language_info": {
      "codemirror_mode": {
        "name": "ipython",
        "version": 3
      },
      "file_extension": ".py",
      "mimetype": "text/x-python",
      "name": "python",
      "nbconvert_exporter": "python",
      "pygments_lexer": "ipython3",
      "version": "3.10.12"
    }
  },
  "nbformat": 4,
  "nbformat_minor": 0
}